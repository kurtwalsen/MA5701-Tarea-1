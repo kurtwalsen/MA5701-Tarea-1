{
 "cells": [
  {
   "cell_type": "markdown",
   "metadata": {},
   "source": [
    "### MA5701: Optimización no Lineal\n",
    "\n",
    "#### Profesor: Jorge Amaya\n",
    "\n",
    "#### Fecha de entrega: 31/05/2020\n",
    "\n",
    "#### Integrantes: Sebastián López, Francisco Vásquez, Kurt Walsen\n",
    "\n",
    "# Tarea 1\n",
    "\n"
   ]
  },
  {
   "cell_type": "code",
   "execution_count": 1,
   "metadata": {},
   "outputs": [],
   "source": [
    "import gurobipy as gb"
   ]
  },
  {
   "cell_type": "code",
   "execution_count": null,
   "metadata": {},
   "outputs": [],
   "source": []
  },
  {
   "cell_type": "markdown",
   "metadata": {},
   "source": [
    "## a)"
   ]
  },
  {
   "cell_type": "markdown",
   "metadata": {},
   "source": [
    "\\begin{align}\n",
    "\\max\\ & 150x-\\frac{x^{2}}{2}- 20x - 2(x_{1,3}+x_{3,4}+x_{3,6}+x_{5,6}+x_{6,7}+x_{10,11}) \\\\\n",
    "s.a & \\sum_{j=1}^{11}x_{1,j} - \\sum_{i=1}^{11}x_{i,11} = 0\\\\\n",
    "\\ & \\sum_{j=1}^{11}x_{i,j} - \\sum_{j=1}^{11}x_{j,i} = 0, \\quad \\forall i \\in [11]\\diagdown \\{1,11\\}\\\\\n",
    "\\ & (\\sum_{i=1}^{11}x_{i,6})(\\sum_{i=1}^{11}x_{i,9}) = 0\\\\\n",
    "\\ & 0 \\leq x_{i,j} \\leq C_{i,j} \\quad \\quad \\forall (i,j) \\in [11]x[11]\\\\\n",
    "\\end{align}"
   ]
  },
  {
   "cell_type": "code",
   "execution_count": null,
   "metadata": {},
   "outputs": [],
   "source": []
  },
  {
   "cell_type": "markdown",
   "metadata": {},
   "source": [
    "## b)"
   ]
  },
  {
   "cell_type": "code",
   "execution_count": 4,
   "metadata": {},
   "outputs": [
    {
     "name": "stdout",
     "output_type": "stream",
     "text": [
      "Using license file C:\\Users\\kurtw\\gurobi.lic\n",
      "Academic license - for non-commercial use only\n"
     ]
    },
    {
     "data": {
      "text/plain": [
       "<gurobipy.Env, No parameter changes>"
      ]
     },
     "execution_count": 4,
     "metadata": {},
     "output_type": "execute_result"
    }
   ],
   "source": [
    "gb.Env()"
   ]
  },
  {
   "cell_type": "code",
   "execution_count": 23,
   "metadata": {},
   "outputs": [],
   "source": [
    "#Modelo\n",
    "model = gb.Model('Flujos')\n",
    "\n",
    "#Variables\n",
    "var_1_2 = model.addVar(vtype=\"C\",lb=0,ub=100,name='1-2')\n",
    "var_1_3 = model.addVar(vtype=\"C\",lb=0,name='1-3')\n",
    "var_1_4 = model.addVar(vtype=\"C\",lb=0,ub=100,name='1-4')\n",
    "var_2_3 = model.addVar(vtype=\"C\",lb=0,ub=50,name='2-3')\n",
    "var_2_5 = model.addVar(vtype=\"C\",lb=0,ub=100,name='2-5')\n",
    "var_2_6 = model.addVar(vtype=\"C\",lb=0,ub=100,name='2-6')\n",
    "var_3_4 = model.addVar(vtype=\"C\",lb=0,name='3-4')\n",
    "var_3_6 = model.addVar(vtype=\"C\",lb=0,name='3-6')\n",
    "var_4_6 = model.addVar(vtype=\"C\",lb=0,ub=50,name='4-6')\n",
    "var_4_7 = model.addVar(vtype=\"C\",lb=0,ub=50,name='4-7')\n",
    "var_5_6 = model.addVar(vtype=\"C\",lb=0,name='5-6')\n",
    "var_5_8 = model.addVar(vtype=\"C\",lb=0,ub=100,name='5-8')\n",
    "var_6_7 = model.addVar(vtype=\"C\",lb=0,name='6-7')\n",
    "var_6_8 = model.addVar(vtype=\"C\",lb=0,ub=80,name='6-8')\n",
    "var_6_9 = model.addVar(vtype=\"C\",lb=0,ub=100,name='6-9')\n",
    "var_6_10 = model.addVar(vtype=\"C\",lb=0,ub=80,name='6-10')\n",
    "var_7_9 = model.addVar(vtype=\"C\",lb=0,ub=80,name='7-9')\n",
    "var_7_10 = model.addVar(vtype=\"C\",lb=0,ub=80,name='7-10')\n",
    "var_8_9 = model.addVar(vtype=\"C\",lb=0,ub=50,name='8-9')\n",
    "var_8_11 = model.addVar(vtype=\"C\",lb=0,ub=80,name='8-11')\n",
    "var_9_10 = model.addVar(vtype=\"C\",lb=0,ub=50,name='9-10')\n",
    "var_9_11 = model.addVar(vtype=\"C\",lb=0,ub=50,name='9-11')\n",
    "var_10_11 = model.addVar(vtype=\"C\",lb=0,name='10-11')\n",
    "\n",
    "#Restricciones a los flujos\n",
    "model.addConstr(var_1_2 == var_2_3 + var_2_5 + var_2_6)\n",
    "model.addConstr(var_1_3 + var_2_3 == var_3_4 + var_3_6)\n",
    "model.addConstr(var_1_4 + var_3_4 == var_4_6 + var_4_7)\n",
    "model.addConstr(var_2_5 == var_5_6 + var_5_8)\n",
    "model.addConstr(var_2_6 + var_3_6 + var_4_6 + var_5_6 == var_6_7 + var_6_8 + var_6_9 + var_6_10)\n",
    "model.addConstr(var_4_7 + var_6_7 == var_7_9 + var_7_10)\n",
    "model.addConstr(var_5_8 + var_6_8 == var_8_9 + var_8_11)\n",
    "model.addConstr(var_6_9 + var_7_9 + var_8_9 == var_9_10 + var_9_11)\n",
    "model.addConstr(var_6_10 + var_7_10 + var_9_10 == var_10_11)\n",
    "\n",
    "#Nodos 6 y 9 no se usan simultaneamente\n",
    "model.addConstr((var_2_6 + var_3_6 + var_4_6 + var_5_6)*(var_9_10 + var_9_11) == 0)\n",
    "\n",
    "#Objetivo\n",
    "model.setObjective(130*(var_8_11 + var_9_11 + var_10_11) - (var_8_11 + var_9_11 + var_10_11)*(var_8_11 + var_9_11 + var_10_11)/2\n",
    "                   - 2*(var_1_3 + var_3_4 + var_3_6 + var_5_6 + var_6_7 + var_10_11), gb.GRB.MAXIMIZE)\n",
    "model.update()"
   ]
  },
  {
   "cell_type": "code",
   "execution_count": 24,
   "metadata": {},
   "outputs": [
    {
     "name": "stdout",
     "output_type": "stream",
     "text": [
      "Changed value of parameter NonConvex to 2\n",
      "   Prev: -1  Min: -1  Max: 2  Default: -1\n",
      "Gurobi Optimizer version 9.0.2 build v9.0.2rc0 (win64)\n",
      "Optimize a model with 9 rows, 23 columns and 40 nonzeros\n",
      "Model fingerprint: 0x8458517d\n",
      "Model has 6 quadratic objective terms\n",
      "Model has 1 quadratic constraint\n",
      "Coefficient statistics:\n",
      "  Matrix range     [1e+00, 1e+00]\n",
      "  QMatrix range    [1e+00, 1e+00]\n",
      "  Objective range  [2e+00, 1e+02]\n",
      "  QObjective range [1e+00, 2e+00]\n",
      "  Bounds range     [5e+01, 1e+02]\n",
      "  RHS range        [0e+00, 0e+00]\n",
      "Presolve removed 0 rows and 2 columns\n",
      "\n",
      "Continuous model is non-convex -- solving as a MIP.\n",
      "\n",
      "Found heuristic solution: objective -0.0000000\n",
      "Presolve added 15 rows and 4 columns\n",
      "Presolve time: 0.00s\n",
      "Presolved: 24 rows, 27 columns, 67 nonzeros\n",
      "Presolved model has 6 quadratic objective terms\n",
      "Variable types: 19 continuous, 8 integer (8 binary)\n",
      "\n",
      "Root relaxation: objective 8.450000e+03, 34 iterations, 0.00 seconds\n",
      "\n",
      "    Nodes    |    Current Node    |     Objective Bounds      |     Work\n",
      " Expl Unexpl |  Obj  Depth IntInf | Incumbent    BestBd   Gap | It/Node Time\n",
      "\n",
      "*    0     0               0    8450.0000000 8450.00000  0.00%     -    0s\n",
      "\n",
      "Explored 0 nodes (34 simplex iterations) in 0.03 seconds\n",
      "Thread count was 8 (of 8 available processors)\n",
      "\n",
      "Solution count 2: 8450 -0 \n",
      "\n",
      "Optimal solution found (tolerance 1.00e-04)\n",
      "Best objective 8.450000000000e+03, best bound 8.450000000000e+03, gap 0.0000%\n"
     ]
    }
   ],
   "source": [
    "model.params.NonConvex=2\n",
    "model.optimize()"
   ]
  },
  {
   "cell_type": "code",
   "execution_count": 25,
   "metadata": {},
   "outputs": [
    {
     "data": {
      "text/plain": [
       "[<gurobi.Var 1-2 (value 100.0)>,\n",
       " <gurobi.Var 1-3 (value 0.0)>,\n",
       " <gurobi.Var 1-4 (value 30.0)>,\n",
       " <gurobi.Var 2-3 (value 0.0)>,\n",
       " <gurobi.Var 2-5 (value 100.0)>,\n",
       " <gurobi.Var 2-6 (value 0.0)>,\n",
       " <gurobi.Var 3-4 (value 0.0)>,\n",
       " <gurobi.Var 3-6 (value 0.0)>,\n",
       " <gurobi.Var 4-6 (value 0.0)>,\n",
       " <gurobi.Var 4-7 (value 30.0)>,\n",
       " <gurobi.Var 5-6 (value 0.0)>,\n",
       " <gurobi.Var 5-8 (value 100.0)>,\n",
       " <gurobi.Var 6-7 (value 0.0)>,\n",
       " <gurobi.Var 6-8 (value 0.0)>,\n",
       " <gurobi.Var 6-9 (value 0.0)>,\n",
       " <gurobi.Var 6-10 (value 0.0)>,\n",
       " <gurobi.Var 7-9 (value 30.0)>,\n",
       " <gurobi.Var 7-10 (value 0.0)>,\n",
       " <gurobi.Var 8-9 (value 20.0)>,\n",
       " <gurobi.Var 8-11 (value 80.0)>,\n",
       " <gurobi.Var 9-10 (value 0.0)>,\n",
       " <gurobi.Var 9-11 (value 50.0)>,\n",
       " <gurobi.Var 10-11 (value 0.0)>]"
      ]
     },
     "execution_count": 25,
     "metadata": {},
     "output_type": "execute_result"
    }
   ],
   "source": [
    "model.getVars()"
   ]
  },
  {
   "cell_type": "markdown",
   "metadata": {},
   "source": [
    "## c)"
   ]
  },
  {
   "cell_type": "code",
   "execution_count": 26,
   "metadata": {},
   "outputs": [],
   "source": [
    "#Modelo\n",
    "model2 = gb.Model('Flujos2')\n",
    "\n",
    "#Variables\n",
    "var_1_2 = model2.addVar(vtype=\"C\",lb=0,ub=100,name='1-2')\n",
    "var_1_3 = model2.addVar(vtype=\"C\",lb=0,name='1-3')\n",
    "var_1_4 = model2.addVar(vtype=\"C\",lb=0,ub=100,name='1-4')\n",
    "var_2_3 = model2.addVar(vtype=\"C\",lb=0,ub=50,name='2-3')\n",
    "var_2_5 = model2.addVar(vtype=\"C\",lb=0,ub=100,name='2-5')\n",
    "var_2_6 = model2.addVar(vtype=\"C\",lb=0,ub=100,name='2-6')\n",
    "var_3_4 = model2.addVar(vtype=\"C\",lb=0,name='3-4')\n",
    "var_3_6 = model2.addVar(vtype=\"C\",lb=0,name='3-6')\n",
    "var_4_6 = model2.addVar(vtype=\"C\",lb=0,ub=50,name='4-6')\n",
    "var_4_7 = model2.addVar(vtype=\"C\",lb=0,ub=50,name='4-7')\n",
    "var_5_6 = model2.addVar(vtype=\"C\",lb=0,name='5-6')\n",
    "var_5_8 = model2.addVar(vtype=\"C\",lb=0,ub=100,name='5-8')\n",
    "var_6_7 = model2.addVar(vtype=\"C\",lb=0,name='6-7')\n",
    "var_6_8 = model2.addVar(vtype=\"C\",lb=0,ub=80,name='6-8')\n",
    "var_6_9 = model2.addVar(vtype=\"C\",lb=0,ub=100,name='6-9')\n",
    "var_6_10 = model2.addVar(vtype=\"C\",lb=0,ub=80,name='6-10')\n",
    "var_7_9 = model2.addVar(vtype=\"C\",lb=0,ub=80,name='7-9')\n",
    "var_7_10 = model2.addVar(vtype=\"C\",lb=0,ub=80,name='7-10')\n",
    "var_8_9 = model2.addVar(vtype=\"C\",lb=0,ub=50,name='8-9')\n",
    "var_8_11 = model2.addVar(vtype=\"C\",lb=0,ub=80,name='8-11')\n",
    "var_9_10 = model2.addVar(vtype=\"C\",lb=0,ub=50,name='9-10')\n",
    "var_9_11 = model2.addVar(vtype=\"C\",lb=0,ub=50,name='9-11')\n",
    "var_10_11 = model2.addVar(vtype=\"C\",lb=0,name='10-11')\n",
    "\n",
    "#Restricciones a los flujos\n",
    "model2.addConstr(var_1_2 == var_2_3 + var_2_5 + var_2_6)\n",
    "model2.addConstr(var_1_3 + var_2_3 == var_3_4 + var_3_6)\n",
    "model2.addConstr(var_1_4 + var_3_4 == var_4_6 + var_4_7)\n",
    "model2.addConstr(var_2_5 == var_5_6 + var_5_8)\n",
    "model2.addConstr(var_2_6 + var_3_6 + var_4_6 + var_5_6 == var_6_7 + var_6_8 + var_6_9 + var_6_10)\n",
    "model2.addConstr(var_4_7 + var_6_7 == var_7_9 + var_7_10)\n",
    "model2.addConstr(var_5_8 + var_6_8 == var_8_9+var_8_11)\n",
    "model2.addConstr(var_6_9 + var_7_9 + var_8_9 == var_9_10 + var_9_11)\n",
    "model2.addConstr(var_6_10 + var_7_10 + var_9_10 == var_10_11)\n",
    "\n",
    "#Nodos 6 y 9 no se usan simultaneamente\n",
    "model2.addConstr((var_2_6 + var_3_6 + var_4_6 + var_5_6)*(var_9_10 + var_9_11) == 0)\n",
    "\n",
    "#Objetivo\n",
    "model2.setObjective(110*(var_8_11 + var_9_11 + var_10_11) - (var_8_11 + var_9_11 + var_10_11)*(var_8_11 + var_9_11 + var_10_11)/2\n",
    "                   - 2*(var_1_3 + var_3_4 + var_3_6 + var_5_6 + var_6_7 + var_10_11), gb.GRB.MAXIMIZE)\n",
    "model2.update()"
   ]
  },
  {
   "cell_type": "code",
   "execution_count": 27,
   "metadata": {},
   "outputs": [
    {
     "name": "stdout",
     "output_type": "stream",
     "text": [
      "Changed value of parameter NonConvex to 2\n",
      "   Prev: -1  Min: -1  Max: 2  Default: -1\n",
      "Gurobi Optimizer version 9.0.2 build v9.0.2rc0 (win64)\n",
      "Optimize a model with 9 rows, 23 columns and 40 nonzeros\n",
      "Model fingerprint: 0xf0a896c7\n",
      "Model has 6 quadratic objective terms\n",
      "Model has 1 quadratic constraint\n",
      "Coefficient statistics:\n",
      "  Matrix range     [1e+00, 1e+00]\n",
      "  QMatrix range    [1e+00, 1e+00]\n",
      "  Objective range  [2e+00, 1e+02]\n",
      "  QObjective range [1e+00, 2e+00]\n",
      "  Bounds range     [5e+01, 1e+02]\n",
      "  RHS range        [0e+00, 0e+00]\n",
      "Presolve removed 0 rows and 2 columns\n",
      "\n",
      "Continuous model is non-convex -- solving as a MIP.\n",
      "\n",
      "Found heuristic solution: objective -0.0000000\n",
      "Presolve added 15 rows and 4 columns\n",
      "Presolve time: 0.00s\n",
      "Presolved: 24 rows, 27 columns, 67 nonzeros\n",
      "Presolved model has 6 quadratic objective terms\n",
      "Variable types: 19 continuous, 8 integer (8 binary)\n",
      "\n",
      "Root relaxation: objective 6.050000e+03, 28 iterations, 0.00 seconds\n",
      "\n",
      "    Nodes    |    Current Node    |     Objective Bounds      |     Work\n",
      " Expl Unexpl |  Obj  Depth IntInf | Incumbent    BestBd   Gap | It/Node Time\n",
      "\n",
      "     0     0 6050.00000    0    4   -0.00000 6050.00000      -     -    0s\n",
      "H    0     0                    5992.0000000 6050.00000  0.97%     -    0s\n",
      "H    0     0                    6050.0000000 6050.00000  0.00%     -    0s\n",
      "\n",
      "Explored 1 nodes (28 simplex iterations) in 0.08 seconds\n",
      "Thread count was 8 (of 8 available processors)\n",
      "\n",
      "Solution count 3: 6050 5992 -0 \n",
      "\n",
      "Optimal solution found (tolerance 1.00e-04)\n",
      "Best objective 6.050000000000e+03, best bound 6.050000000000e+03, gap 0.0000%\n"
     ]
    }
   ],
   "source": [
    "model2.params.NonConvex=2\n",
    "model2.optimize()"
   ]
  },
  {
   "cell_type": "code",
   "execution_count": 37,
   "metadata": {},
   "outputs": [
    {
     "data": {
      "text/plain": [
       "[<gurobi.Var 1-2 (value 80.0)>,\n",
       " <gurobi.Var 1-3 (value 0.0)>,\n",
       " <gurobi.Var 1-4 (value 30.0)>,\n",
       " <gurobi.Var 2-3 (value 0.0)>,\n",
       " <gurobi.Var 2-5 (value 80.0)>,\n",
       " <gurobi.Var 2-6 (value 0.0)>,\n",
       " <gurobi.Var 3-4 (value 0.0)>,\n",
       " <gurobi.Var 3-6 (value 0.0)>,\n",
       " <gurobi.Var 4-6 (value 0.0)>,\n",
       " <gurobi.Var 4-7 (value 30.0)>,\n",
       " <gurobi.Var 5-6 (value 0.0)>,\n",
       " <gurobi.Var 5-8 (value 80.0)>,\n",
       " <gurobi.Var 6-7 (value 0.0)>,\n",
       " <gurobi.Var 6-8 (value 0.0)>,\n",
       " <gurobi.Var 6-9 (value 0.0)>,\n",
       " <gurobi.Var 6-10 (value 0.0)>,\n",
       " <gurobi.Var 7-9 (value 30.0)>,\n",
       " <gurobi.Var 7-10 (value 0.0)>,\n",
       " <gurobi.Var 8-9 (value 0.0)>,\n",
       " <gurobi.Var 8-11 (value 80.0)>,\n",
       " <gurobi.Var 9-10 (value 0.0)>,\n",
       " <gurobi.Var 9-11 (value 30.0)>,\n",
       " <gurobi.Var 10-11 (value 0.0)>]"
      ]
     },
     "execution_count": 37,
     "metadata": {},
     "output_type": "execute_result"
    }
   ],
   "source": [
    "vars2 = model2.getVars()\n",
    "vars2"
   ]
  },
  {
   "cell_type": "code",
   "execution_count": 38,
   "metadata": {},
   "outputs": [
    {
     "data": {
      "text/plain": [
       "list"
      ]
     },
     "execution_count": 38,
     "metadata": {},
     "output_type": "execute_result"
    }
   ],
   "source": [
    "type(vars2)"
   ]
  },
  {
   "cell_type": "code",
   "execution_count": 54,
   "metadata": {},
   "outputs": [
    {
     "data": {
      "text/plain": [
       "80.0"
      ]
     },
     "execution_count": 54,
     "metadata": {},
     "output_type": "execute_result"
    }
   ],
   "source": [
    "vars2[0].xn"
   ]
  },
  {
   "cell_type": "code",
   "execution_count": null,
   "metadata": {},
   "outputs": [],
   "source": []
  }
 ],
 "metadata": {
  "kernelspec": {
   "display_name": "Python 3",
   "language": "python",
   "name": "python3"
  },
  "language_info": {
   "codemirror_mode": {
    "name": "ipython",
    "version": 3
   },
   "file_extension": ".py",
   "mimetype": "text/x-python",
   "name": "python",
   "nbconvert_exporter": "python",
   "pygments_lexer": "ipython3",
   "version": "3.7.4"
  },
  "toc": {
   "base_numbering": 1,
   "nav_menu": {},
   "number_sections": true,
   "sideBar": true,
   "skip_h1_title": false,
   "title_cell": "Table of Contents",
   "title_sidebar": "Contents",
   "toc_cell": false,
   "toc_position": {},
   "toc_section_display": true,
   "toc_window_display": false
  },
  "varInspector": {
   "cols": {
    "lenName": 16,
    "lenType": 16,
    "lenVar": 40
   },
   "kernels_config": {
    "python": {
     "delete_cmd_postfix": "",
     "delete_cmd_prefix": "del ",
     "library": "var_list.py",
     "varRefreshCmd": "print(var_dic_list())"
    },
    "r": {
     "delete_cmd_postfix": ") ",
     "delete_cmd_prefix": "rm(",
     "library": "var_list.r",
     "varRefreshCmd": "cat(var_dic_list()) "
    }
   },
   "types_to_exclude": [
    "module",
    "function",
    "builtin_function_or_method",
    "instance",
    "_Feature"
   ],
   "window_display": false
  }
 },
 "nbformat": 4,
 "nbformat_minor": 2
}
